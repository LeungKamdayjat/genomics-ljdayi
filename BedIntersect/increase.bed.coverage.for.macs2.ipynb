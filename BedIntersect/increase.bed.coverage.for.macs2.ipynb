{
 "cells": [
  {
   "cell_type": "code",
   "execution_count": 5,
   "metadata": {},
   "outputs": [],
   "source": [
    "# import pandas as pd\n",
    "# for bed_df in\n",
    "# # Load BED file into pandas DataFrame\n",
    "# bed_df = pd.read_csv('HK2-YAP1-rep2_S32.sorted_summits.bed', sep='\\t', header=None)\n",
    "\n",
    "# # Rename columns for easier handling\n",
    "# bed_df.columns = ['chr', 'start', 'end',\"name\",\"value\"]\n",
    "\n",
    "# # Calculate midpoint of each region, then expand to create new start and end points\n",
    "# midpoint = (bed_df['start'] + bed_df['end']) // 2\n",
    "# bed_df['start'] = midpoint - 50\n",
    "# bed_df['end'] = midpoint + 50\n",
    "# # Save expanded BED file\n",
    "# bed_df.to_csv('output.bed', sep='\\t', header=False, index=False)\n",
    "# # Load BED file into pandas DataFrame\n",
    "# bed_df = pd.read_csv('ops.bed', sep='\\t', header=None)\n",
    "# # Rename columns for easier handling\n",
    "# bed_df.columns = ['chr', 'start', 'end',\"name\",\"value\"]\n",
    "# bed_df = bed_df.drop('value', axis=1)\n",
    "# bed_df.to_csv('ops.int.bed', sep='\\t', header=False, index=False)\n",
    "\n"
   ]
  },
  {
   "cell_type": "code",
   "execution_count": 2,
   "metadata": {},
   "outputs": [
    {
     "name": "stdout",
     "output_type": "stream",
     "text": [
      "Global-TEAD1-YAP1.ops.closest.gene.bed\n",
      "out.bed\n",
      "Global-TEAD1-YAP1.ops.bed\n",
      "UOK342-TEAD1-YAP1.ops.bed\n",
      "HK2-YAP1-rep2_S32_expanded.bed\n",
      "UOK121-YAP1-TEAD1.ops.int.bed\n",
      ".DS_Store\n",
      "UOK121-TEAD1-rep2_S27_summits.bed\n",
      "HK2-TEAD1-YAP1.ops.int.bed\n",
      "UOK342-H3K9me3-rep2_S21.sorted_summits.bed\n",
      "UOK122-TEAD1-rep2_S16.sorted_summits.bed\n",
      "HK2-YAP1-rep1_S22.sorted_summits.bed\n",
      "UOK122-YAP1-rep1_S9.sorted_summits.bed\n",
      "peaks_nearest_genes.bed\n",
      "UOK121-YAP1-rep2_S26.sorted_summits.bed\n",
      "UOK121-YAP1-TEAD1.ops.bed\n",
      "Global-TEAD1-YAP1.ops.closest.bed\n",
      "expanded.overlap\n",
      "UOK121-H3K9me3-rep2_S29.sorted_summits.bed\n",
      "Global-TEAD1-YAP1.ops.closest.sorted.bed\n",
      "bedtools.intersect.bed\n",
      "UOK122-TEAD1-YAP1.ops.bed\n",
      "common_to_all_N_tumour_subsets.bed\n",
      "ChIPSeeker.R\n",
      "hg38.bed\n",
      "common_tumour_elements_that_overlap_each_peak.bed\n",
      "ops.bed\n",
      "answer.bed\n",
      "UOK122-H3K9me3-rep2_S18.sorted_summits.bed\n",
      "HK2-H3K9me3-rep1_S14.sorted_summits.bed\n",
      "increase.bed.coverage.ipynb\n",
      "HK2-TEAD1-rep1_S8.sorted_summits.bed\n",
      "HK2-TEAD1-rep1_S8.sorted_summits.expanded.bed\n",
      "UOK342-TEAD1-YAP1.ops.int.bed\n",
      "multiliner.bed\n",
      "ploting\n",
      "UOK342-TEAD1-rep1_S7.sorted_summits.bed\n",
      "output.txt\n",
      "UOK342-YAP1-rep1_S11.sorted_summits.bed\n",
      "UOK122-TEAD1-YAP1.ops.int.bed\n",
      "HK2-YAP1-rep2_S32.sorted_summits.expanded.bed\n",
      "output.bed\n"
     ]
    }
   ],
   "source": [
    "#expand the bed coverage\n",
    "import pandas as pd\n",
    "import os\n",
    "\n",
    "# Loop through each file in the directory\n",
    "for filename in os.listdir('.'):\n",
    "    print(filename)\n",
    "    # Check if the file ends with summit.bed\n",
    "    if filename.endswith('summits.bed'):\n",
    "        # Load BED file into pandas DataFrame\n",
    "        bed_df = pd.read_csv(filename, sep='\\t', header=None)\n",
    "\n",
    "        # Rename columns for easier handling\n",
    "        bed_df.columns = ['chr', 'start', 'end',\"name\",\"value\"]\n",
    "\n",
    "        # Calculate midpoint of each region, then expand to create new start and end points\n",
    "        midpoint = (bed_df['start'] + bed_df['end']) // 2\n",
    "        bed_df['start'] = midpoint - 50\n",
    "        bed_df['end'] = midpoint + 50\n",
    "        \n",
    "        # Save expanded BED file\n",
    "        bed_df.to_csv(f'{filename.split(\".\")[0]}_expanded.bed', sep='\\t', header=False, index=False)\n",
    "        \n",
    "\n"
   ]
  },
  {
   "cell_type": "markdown",
   "metadata": {},
   "source": [
    "run from terminal to overlap\n",
    "\n",
    "bedtools intersect -a /Users/jeffrey.liang/Library/CloudStorage/OneDrive-JohnsHopkins/Cai_Lab/7_ChIPseq/overlapping/UOK342-TEAD1-rep1_S7_expanded.bed  -b /Users/jeffrey.liang/Library/CloudStorage/OneDrive-JohnsHopkins/Cai_Lab/7_ChIPseq/overlapping/UOK342-YAP1-rep1_S11_expanded.bed  -wa -wb>UOK342-TEAD1-YAP1.ops.bed\n"
   ]
  },
  {
   "cell_type": "markdown",
   "metadata": {},
   "source": [
    "then prepare input for GREAT analysis"
   ]
  },
  {
   "cell_type": "code",
   "execution_count": 1,
   "metadata": {},
   "outputs": [
    {
     "name": "stdout",
     "output_type": "stream",
     "text": [
      "UOK122-TEAD1-rep2_S16_expanded.bed\n",
      "UOK342-YAP1-rep1_S11_expanded.bed\n",
      "HK2-YAP1-rep1_S22_expanded.bed\n",
      "HK2-TEAD1-rep1_S8_expanded.bed\n",
      "UOK342-H3K9me3-TEAD1.ops.bed\n",
      "UOK122-H3K9me3-rep2_S18_expanded.bed\n",
      "UOK121-YAP1-rep2_S26_expanded.bed\n",
      "UOK342-TEAD1-rep1_S7_expanded.bed\n",
      "UOK121-TEAD1-H3K9me3.ops.bed\n",
      "UOK342-H3K9me3-rep2_S21_expanded.bed\n",
      "HK2-TEAD1-H3K9me3.ops.bed\n",
      "UOK121-TEAD1-rep2_S27_summits_expanded.bed\n",
      "UOK122-YAP1-rep1_S9_expanded.bed\n",
      "UOK121-H3K9me3-rep2_S29_expanded.bed\n",
      "increase.bed.coverage.ipynb\n",
      "HK2-H3K9me3-rep1_S14_expanded.bed\n",
      "UOK122-TEAD1-H3K9me3.ops.bed\n"
     ]
    }
   ],
   "source": [
    "#keep only first three to input for GREAT\n",
    "import pandas as pd\n",
    "import os\n",
    "\n",
    "for filename in os.listdir('.'):\n",
    "    print(filename)\n",
    "    # Check if the file ends with summit.bed\n",
    "    if filename.endswith('ops.bed'):\n",
    "    # Load BED file into pandas DataFrame\n",
    "        bed_df = pd.read_csv(filename, sep='\\t', header=None)\n",
    "\n",
    "        # Rename columns for easier handling\n",
    "        bed_df.columns = ['chr', 'start', 'end', 'name', 'value', 'chr_1', 'start_1', 'end_1', 'name_1', 'value_1']\n",
    "\n",
    "        # Keep only the first three columns\n",
    "        bed_df = bed_df[['chr', 'start', 'end']]\n",
    "\n",
    "        bed_df.to_csv(f'{filename.split(\".\")[0]}_expanded.int.ops.bed', sep='\\t', header=False, index=False)\n"
   ]
  },
  {
   "cell_type": "code",
   "execution_count": 10,
   "metadata": {},
   "outputs": [],
   "source": [
    "#decrease the bam coverage for gene annotation\n",
    "\n",
    "import pandas as pd\n",
    "\n",
    "# Read the BED file into a pandas DataFrame\n",
    "df = pd.read_csv('Global-TEAD1-YAP1.ops.bed', sep='\\t', header=None, names=['chr', 'start', 'end', 'name'])\n",
    "\n",
    "# Calculate the average and add 1 to get the new start and end positions\n",
    "df['start'] = ((df['start'] + df['end']) // 2)\n",
    "df['end'] = df['start'] + 1\n",
    "\n",
    "# Write the updated DataFrame to a new BED file\n",
    "df.to_csv('Global-TEAD1-YAP1.ops.closest.bed', sep='\\t', header=False, index=False)\n"
   ]
  },
  {
   "cell_type": "code",
   "execution_count": null,
   "metadata": {},
   "outputs": [],
   "source": [
    "# #run the code:\n",
    "# bedtools closest -a /Users/jeffrey.liang/Library/CloudStorage/OneDrive-JohnsHopkins/Cai_Lab/7_ChIPseq/overlapping/Global-TEAD1-YAP1.ops.closest.sorted.bed  -b /Users/jeffrey.liang/Library/CloudStorage/OneDrive-JohnsHopkins/Cai_Lab/7_ChIPseq/overlapping/out.bed > Global-TEAD1-YAP1.ops.closest.gene.bed\n"
   ]
  },
  {
   "cell_type": "markdown",
   "metadata": {},
   "source": [
    "Global-TEAD1-YAP1.ops.closest.gene.bed"
   ]
  },
  {
   "cell_type": "code",
   "execution_count": 22,
   "metadata": {},
   "outputs": [
    {
     "name": "stdout",
     "output_type": "stream",
     "text": [
      "       chr      start        end                                name chr_gtf  \\\n",
      "0     chr1    1024778    1024779     HK2-TEAD1-rep1_S8.sorted_peak_3    chr1   \n",
      "1     chr1    1024778    1024779     HK2-TEAD1-rep1_S8.sorted_peak_3    chr1   \n",
      "2     chr1    1024778    1024779     HK2-TEAD1-rep1_S8.sorted_peak_3    chr1   \n",
      "3     chr1   15356422   15356423    HK2-TEAD1-rep1_S8.sorted_peak_31    chr1   \n",
      "4     chr1   15356422   15356423    HK2-TEAD1-rep1_S8.sorted_peak_31    chr1   \n",
      "...    ...        ...        ...                                 ...     ...   \n",
      "3572  chrX  136214676  136214677  HK2-TEAD1-rep1_S8.sorted_peak_5174    chrX   \n",
      "3573  chrX  136214676  136214677  HK2-TEAD1-rep1_S8.sorted_peak_5174    chrX   \n",
      "3574  chrX  136214676  136214677  HK2-TEAD1-rep1_S8.sorted_peak_5174    chrX   \n",
      "3575  chrX  136214676  136214677  HK2-TEAD1-rep1_S8.sorted_peak_5174    chrX   \n",
      "3576  chrX  136214676  136214677  HK2-TEAD1-rep1_S8.sorted_peak_5174    chrX   \n",
      "\n",
      "      start_gtf    end_gtf             gene_id score_gtf strand   source  \\\n",
      "0       1020119    1056116  ENSG00000188157.15         .      +   HAVANA   \n",
      "1       1020119    1056118  ENSG00000188157.15         .      +   HAVANA   \n",
      "2       1020122    1056118  ENSG00000188157.15         .      +  ENSEMBL   \n",
      "3      15236520   15398328  ENSG00000142621.21         .      +   HAVANA   \n",
      "4      15236520   15400283  ENSG00000142621.21         .      +   HAVANA   \n",
      "...         ...        ...                 ...       ...    ...      ...   \n",
      "3572  136213219  136256482  ENSG00000129680.16         .      -   HAVANA   \n",
      "3573  136213219  136215013  ENSG00000129680.16         .      -   HAVANA   \n",
      "3574  136213219  136215013  ENSG00000129680.16         .      -   HAVANA   \n",
      "3575  136213219  136251371  ENSG00000129680.16         .      -   HAVANA   \n",
      "3576  136213219  136256482  ENSG00000129680.16         .      -   HAVANA   \n",
      "\n",
      "            type phase                                         attributes  \n",
      "0     transcript     .  gene_id \"ENSG00000188157.15\"; transcript_id \"E...  \n",
      "1           gene     .  gene_id \"ENSG00000188157.15\"; gene_type \"prote...  \n",
      "2     transcript     .  gene_id \"ENSG00000188157.15\"; transcript_id \"E...  \n",
      "3     transcript     .  gene_id \"ENSG00000142621.21\"; transcript_id \"E...  \n",
      "4           gene     .  gene_id \"ENSG00000142621.21\"; gene_type \"prote...  \n",
      "...          ...   ...                                                ...  \n",
      "3572        gene     .  gene_id \"ENSG00000129680.16\"; gene_type \"prote...  \n",
      "3573         UTR     .  gene_id \"ENSG00000129680.16\"; transcript_id \"E...  \n",
      "3574        exon     .  gene_id \"ENSG00000129680.16\"; transcript_id \"E...  \n",
      "3575  transcript     .  gene_id \"ENSG00000129680.16\"; transcript_id \"E...  \n",
      "3576        gene     .  gene_id \"ENSG00000129680.16\"; gene_type \"prote...  \n",
      "\n",
      "[3577 rows x 14 columns]\n"
     ]
    }
   ],
   "source": [
    "import pandas as pd\n",
    "\n",
    "# Define the column names\n",
    "column_names = ['chr', 'start', 'end', 'name', 'chr_gtf', 'start_gtf', 'end_gtf', 'gene_id', 'score_gtf', 'strand', 'source', 'type', 'phase', 'attributes']\n",
    "\n",
    "# Read the data into a pandas DataFrame\n",
    "df = pd.read_csv('Global-TEAD1-YAP1.ops.closest.gene.bed', sep='\\t', header=None, names=column_names)\n",
    "\n",
    "# Display the DataFrame\n",
    "print(df)\n"
   ]
  }
 ],
 "metadata": {
  "kernelspec": {
   "display_name": "genomics3.8",
   "language": "python",
   "name": "python3"
  },
  "language_info": {
   "codemirror_mode": {
    "name": "ipython",
    "version": 3
   },
   "file_extension": ".py",
   "mimetype": "text/x-python",
   "name": "python",
   "nbconvert_exporter": "python",
   "pygments_lexer": "ipython3",
   "version": "3.8.17"
  },
  "orig_nbformat": 4
 },
 "nbformat": 4,
 "nbformat_minor": 2
}
