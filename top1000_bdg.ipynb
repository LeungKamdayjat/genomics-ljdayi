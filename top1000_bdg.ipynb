{
 "cells": [
  {
   "cell_type": "code",
   "execution_count": 3,
   "metadata": {},
   "outputs": [],
   "source": [
    "import pandas as pd\n",
    "from io import StringIO\n"
   ]
  },
  {
   "cell_type": "code",
   "execution_count": 1,
   "metadata": {},
   "outputs": [],
   "source": [
    "file_path = '/Users/jeffrey.liang.mac/Library/CloudStorage/OneDrive-JohnsHopkins/Cai_Lab/ChIP Library/UOK121-TEAD1-rep2_S27_treat_pileup.bdg'  # Path to the file\n"
   ]
  },
  {
   "cell_type": "code",
   "execution_count": 5,
   "metadata": {},
   "outputs": [
    {
     "data": {
      "text/html": [
       "<div>\n",
       "<style scoped>\n",
       "    .dataframe tbody tr th:only-of-type {\n",
       "        vertical-align: middle;\n",
       "    }\n",
       "\n",
       "    .dataframe tbody tr th {\n",
       "        vertical-align: top;\n",
       "    }\n",
       "\n",
       "    .dataframe thead th {\n",
       "        text-align: right;\n",
       "    }\n",
       "</style>\n",
       "<table border=\"1\" class=\"dataframe\">\n",
       "  <thead>\n",
       "    <tr style=\"text-align: right;\">\n",
       "      <th></th>\n",
       "      <th>0</th>\n",
       "      <th>1</th>\n",
       "      <th>2</th>\n",
       "      <th>3</th>\n",
       "    </tr>\n",
       "  </thead>\n",
       "  <tbody>\n",
       "    <tr>\n",
       "      <th>0</th>\n",
       "      <td>chr1</td>\n",
       "      <td>0</td>\n",
       "      <td>9832</td>\n",
       "      <td>0.0</td>\n",
       "    </tr>\n",
       "    <tr>\n",
       "      <th>1</th>\n",
       "      <td>chr1</td>\n",
       "      <td>9832</td>\n",
       "      <td>9844</td>\n",
       "      <td>1.0</td>\n",
       "    </tr>\n",
       "    <tr>\n",
       "      <th>2</th>\n",
       "      <td>chr1</td>\n",
       "      <td>9844</td>\n",
       "      <td>9859</td>\n",
       "      <td>2.0</td>\n",
       "    </tr>\n",
       "    <tr>\n",
       "      <th>3</th>\n",
       "      <td>chr1</td>\n",
       "      <td>9859</td>\n",
       "      <td>9904</td>\n",
       "      <td>3.0</td>\n",
       "    </tr>\n",
       "    <tr>\n",
       "      <th>4</th>\n",
       "      <td>chr1</td>\n",
       "      <td>9904</td>\n",
       "      <td>9927</td>\n",
       "      <td>4.0</td>\n",
       "    </tr>\n",
       "    <tr>\n",
       "      <th>...</th>\n",
       "      <td>...</td>\n",
       "      <td>...</td>\n",
       "      <td>...</td>\n",
       "      <td>...</td>\n",
       "    </tr>\n",
       "    <tr>\n",
       "      <th>40338949</th>\n",
       "      <td>chrY_KI270740v1_random</td>\n",
       "      <td>36052</td>\n",
       "      <td>36106</td>\n",
       "      <td>0.0</td>\n",
       "    </tr>\n",
       "    <tr>\n",
       "      <th>40338950</th>\n",
       "      <td>chrY_KI270740v1_random</td>\n",
       "      <td>36106</td>\n",
       "      <td>36156</td>\n",
       "      <td>1.0</td>\n",
       "    </tr>\n",
       "    <tr>\n",
       "      <th>40338951</th>\n",
       "      <td>chrY_KI270740v1_random</td>\n",
       "      <td>36156</td>\n",
       "      <td>36358</td>\n",
       "      <td>2.0</td>\n",
       "    </tr>\n",
       "    <tr>\n",
       "      <th>40338952</th>\n",
       "      <td>chrY_KI270740v1_random</td>\n",
       "      <td>36358</td>\n",
       "      <td>36408</td>\n",
       "      <td>1.0</td>\n",
       "    </tr>\n",
       "    <tr>\n",
       "      <th>40338953</th>\n",
       "      <td>chrY_KI270740v1_random</td>\n",
       "      <td>36408</td>\n",
       "      <td>36492</td>\n",
       "      <td>0.0</td>\n",
       "    </tr>\n",
       "  </tbody>\n",
       "</table>\n",
       "<p>40338954 rows × 4 columns</p>\n",
       "</div>"
      ],
      "text/plain": [
       "                               0      1      2    3\n",
       "0                           chr1      0   9832  0.0\n",
       "1                           chr1   9832   9844  1.0\n",
       "2                           chr1   9844   9859  2.0\n",
       "3                           chr1   9859   9904  3.0\n",
       "4                           chr1   9904   9927  4.0\n",
       "...                          ...    ...    ...  ...\n",
       "40338949  chrY_KI270740v1_random  36052  36106  0.0\n",
       "40338950  chrY_KI270740v1_random  36106  36156  1.0\n",
       "40338951  chrY_KI270740v1_random  36156  36358  2.0\n",
       "40338952  chrY_KI270740v1_random  36358  36408  1.0\n",
       "40338953  chrY_KI270740v1_random  36408  36492  0.0\n",
       "\n",
       "[40338954 rows x 4 columns]"
      ]
     },
     "execution_count": 5,
     "metadata": {},
     "output_type": "execute_result"
    }
   ],
   "source": [
    "\n",
    "#test if data_transfer is done\n",
    "df = pd.read_csv('/Users/jeffrey.liang.mac/Library/CloudStorage/OneDrive-JohnsHopkins/Cai_Lab/ChIP Library/UOK121-TEAD1-rep2_S27_treat_pileup.bdg', sep=\"\\t\",header=None)\n",
    "df\n"
   ]
  },
  {
   "cell_type": "code",
   "execution_count": 8,
   "metadata": {},
   "outputs": [],
   "source": [
    "df_upper_5 = df[df[3] >= 5]\n",
    "df_upper_5"
   ]
  },
  {
   "cell_type": "code",
   "execution_count": 10,
   "metadata": {},
   "outputs": [],
   "source": [
    "def to_bedgraph(df, filename):\n",
    "    df.to_csv(filename, sep='\\t', header=False, index=False)\n",
    "\n",
    "# Use the function to export DataFrame 'df' to BEDGRAPH\n",
    "to_bedgraph(df_upper_5, '/Users/jeffrey.liang.mac/Library/CloudStorage/OneDrive-JohnsHopkins/Cai_Lab/ChIP Library/test.bdg')"
   ]
  },
  {
   "cell_type": "code",
   "execution_count": 61,
   "metadata": {},
   "outputs": [],
   "source": [
    "top_1000_peaks = df1.head(1000)\n",
    "\n",
    "# Write the top 1000 peaks to a new file\n",
    "top_1000_peaks.to_csv(\"/Volumes/WD_BLACK/hg38_files/top1000.csv\",index=False)"
   ]
  }
 ],
 "metadata": {
  "kernelspec": {
   "display_name": "frap_env",
   "language": "python",
   "name": "python3"
  },
  "language_info": {
   "codemirror_mode": {
    "name": "ipython",
    "version": 3
   },
   "file_extension": ".py",
   "mimetype": "text/x-python",
   "name": "python",
   "nbconvert_exporter": "python",
   "pygments_lexer": "ipython3",
   "version": "3.11.3"
  },
  "orig_nbformat": 4
 },
 "nbformat": 4,
 "nbformat_minor": 2
}
